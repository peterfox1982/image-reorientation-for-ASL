{
 "cells": [
  {
   "cell_type": "markdown",
   "metadata": {},
   "source": [
    "# ASL Image Re-orientation Notebook"
   ]
  },
  {
   "cell_type": "markdown",
   "metadata": {},
   "source": [
    "This is a notebook that takes an existing folder of ASL (American Sign Language) data (that already has a folder sub-structure to contain images of each letter seperately) and produces a new folder WITHIN THE EXISTING FOLDER that contains each image correctly orientated. The motivation for this project was due to the problem that, when importing images taken on different devices into PowerAI Vision the images would sometimes appear rotated therein. The reason for this rotation lies with the fact that different imaging devices (phones/Ipads etc) store the image differently depending on the orientation of the device when the picture was taken (e.g. in portrait or landscape). This rotation behaviour is apparently exclusive to Apple devices.\n",
    "\n",
    "So first let's import some libraries:"
   ]
  },
  {
   "cell_type": "code",
   "execution_count": 1,
   "metadata": {},
   "outputs": [],
   "source": [
    "from PIL import Image\n",
    "from PIL import ExifTags\n",
    "import os, sys"
   ]
  },
  {
   "cell_type": "markdown",
   "metadata": {},
   "source": [
    "We now need to specify some inputs. These are described below.\n",
    "\n",
    "input_dir : This is the name of the folder that contains our original images. Please note that this folder should already contain within itself 25 separate folders, one each for each letter of the alphabet (within which are located the image files themselves) and excluding the letter Z since we do not wish to identify it (this is because it is a motion for which the beginning and endpoints are not exclusively Z-like). It ought to commence with two backslashes.\n",
    "\n",
    "ouput_dir : This is the name of the output folder to be produced. output_dir will be located within input_dir once the code has been successfully run. Please note we don't need to include any backslashes here.\n",
    "\n",
    "full_path_to_input_dir : Self-explanatory. Note a forward slash is also needed on the end (and at the start!) and the path includes the input directory too.\n",
    "\n",
    "dir : This should be the full path to input_dir. Hence please note that we must be located WITHIN input_dir before we execute any of the subsequent code.\n",
    "\n",
    "Oh and in case you are wondering why we have to declare the path to the input directory twice, there is a discrepency in format between the two."
   ]
  },
  {
   "cell_type": "code",
   "execution_count": null,
   "metadata": {},
   "outputs": [],
   "source": [
    "input_dir = \"\\\\ASL_Images_raw_21st_March\"\n",
    "output_dir = \"resized_Images_21st_March\"\n",
    "full_path_to_input_dir = \"/Users/PeterFox/Documents/ASL/ASL_Images_raw_21st_March/\"\n",
    "dir = os.getcwd() "
   ]
  },
  {
   "cell_type": "markdown",
   "metadata": {},
   "source": [
    "Quick check that we are currently within input_dir:"
   ]
  },
  {
   "cell_type": "code",
   "execution_count": 249,
   "metadata": {},
   "outputs": [
    {
     "data": {
      "text/plain": [
       "'C:\\\\Users\\\\PeterFox\\\\Documents\\\\ASL\\\\ASL_Images_raw_21st_March'"
      ]
     },
     "execution_count": 249,
     "metadata": {},
     "output_type": "execute_result"
    }
   ],
   "source": [
    "os.getcwd()"
   ]
  },
  {
   "cell_type": "markdown",
   "metadata": {},
   "source": [
    "Good! Now let's do some juicy coding :) It will be useful to have a list of all the (capitalised) alphabet characters, for when we wish to re-create our folder structure. For this we can simply do the following (excluding Z):"
   ]
  },
  {
   "cell_type": "code",
   "execution_count": 238,
   "metadata": {},
   "outputs": [],
   "source": [
    "alphabet = map(chr, range(65, 90))"
   ]
  },
  {
   "cell_type": "markdown",
   "metadata": {},
   "source": [
    "Now let's make a function called create_output_folder whose purpose in life is, like all well-written functions, self-evident."
   ]
  },
  {
   "cell_type": "code",
   "execution_count": 239,
   "metadata": {},
   "outputs": [],
   "source": [
    "def create_output_folder(letter):\n",
    "    if not os.path.exists(os.path.join(dir,output_dir,letter)):\n",
    "        os.mkdir(os.path.join(dir,output_dir,letter))"
   ]
  },
  {
   "cell_type": "markdown",
   "metadata": {},
   "source": [
    "The following function takes an input image, performs a re-orientation if it is required and then saves the image (rotated or not) into its letter sub-folder. Please note the image MUST currently have extension .jpg, .JPG, .jpeg or .JPEG. Although I should think the code could be amended to take other image types such as png if so required."
   ]
  },
  {
   "cell_type": "code",
   "execution_count": 245,
   "metadata": {},
   "outputs": [],
   "source": [
    "def reorientateImage(infile, output_dir, letter):\n",
    "     outfile = os.path.splitext(infile)[0] + \"_reorientated\"\n",
    "     extension = os.path.splitext(infile)[1]\n",
    "\n",
    "     if (extension == \".jpg\") or (extension == \".JPG\") or (extension == \".jpeg\") or (extension == \".JPEG\"):\n",
    "\n",
    "        if infile != outfile:\n",
    "\n",
    "            try :\n",
    "                im = Image.open(infile)\n",
    "                exif = im._getexif()\n",
    "                exif = dict(exif.items())\n",
    "                \n",
    "                if 271 in exif:\n",
    "                    if exif[271] == 'Apple':\n",
    "                        if exif[274] == 3:\n",
    "                            im=im.rotate(180, expand=True)\n",
    "                        elif exif[274] == 8:\n",
    "                            im = im.rotate(90, expand=True)\n",
    "                        elif exif[274] == 6:\n",
    "                            im = im.rotate(270, expand=True)\n",
    "                        else:\n",
    "                            pass;\n",
    "\n",
    "                absolute_name_with_path = full_path_to_input_dir + output_dir + \"/\" + letter + 'correct_orientation' + outfile + \".JPEG\"\n",
    "                im.save(absolute_name_with_path,\"JPEG\")\n",
    "            except IOError:\n",
    "                print (\"cannot reduce image for \", infile)\n",
    "                "
   ]
  },
  {
   "cell_type": "markdown",
   "metadata": {},
   "source": [
    "And let's use both these functions to create our new directory structure and do our image re-orientation."
   ]
  },
  {
   "cell_type": "code",
   "execution_count": 242,
   "metadata": {},
   "outputs": [],
   "source": [
    "def change_folder_and_perform_image_reorientation_if_required():\n",
    "    for letter in alphabet:\n",
    "        #if not os.path.exists(os.path.join(dir,output_dir,letter)):\n",
    "        create_output_folder(letter)\n",
    "        os.chdir(dir + \"\\\\\" + letter)\n",
    "        for file in os.listdir(\".\"):\n",
    "            reorientateImage(file, output_dir, letter + \"/\")"
   ]
  },
  {
   "cell_type": "markdown",
   "metadata": {},
   "source": [
    "Now all that remains for us to do is call our function, right?! Almost - but first we should use our create_output_folder function to produce our output directory:"
   ]
  },
  {
   "cell_type": "code",
   "execution_count": null,
   "metadata": {},
   "outputs": [],
   "source": [
    "create_output_folder(\"\")"
   ]
  },
  {
   "cell_type": "markdown",
   "metadata": {},
   "source": [
    "Now we are ready to call our uber-function..."
   ]
  },
  {
   "cell_type": "code",
   "execution_count": 234,
   "metadata": {
    "scrolled": true
   },
   "outputs": [],
   "source": [
    "change_folder_and_perform_image_reorientation_if_required()"
   ]
  },
  {
   "cell_type": "markdown",
   "metadata": {},
   "source": [
    "And that's it! This code could be easily amended to do some image re-sizing if required."
   ]
  },
  {
   "cell_type": "code",
   "execution_count": null,
   "metadata": {},
   "outputs": [],
   "source": []
  }
 ],
 "metadata": {
  "kernelspec": {
   "display_name": "Python 3",
   "language": "python",
   "name": "python3"
  },
  "language_info": {
   "codemirror_mode": {
    "name": "ipython",
    "version": 3
   },
   "file_extension": ".py",
   "mimetype": "text/x-python",
   "name": "python",
   "nbconvert_exporter": "python",
   "pygments_lexer": "ipython3",
   "version": "3.7.1"
  }
 },
 "nbformat": 4,
 "nbformat_minor": 1
}
